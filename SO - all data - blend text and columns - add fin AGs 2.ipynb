{
 "cells": [
  {
   "cell_type": "markdown",
   "metadata": {},
   "source": [
    "- Use all 2 years data\n",
    "- Concatenate Description and Short Description\n",
    "- Conact other columns \n",
    "- Run multiple algorithms"
   ]
  },
  {
   "cell_type": "code",
   "execution_count": 1,
   "metadata": {},
   "outputs": [],
   "source": [
    "import numpy as np\n",
    "import pandas as pd\n",
    "#import tensorflow as tf\n",
    "\n",
    "from sklearn.model_selection import train_test_split\n",
    "import math\n",
    "from sklearn.ensemble import RandomForestClassifier\n",
    "\n",
    "from sklearn import metrics\n",
    "from sklearn.metrics import accuracy_score, balanced_accuracy_score, f1_score, classification_report\n",
    "from sklearn.feature_extraction.text import CountVectorizer\n",
    "from sklearn.feature_extraction.text import TfidfTransformer\n",
    "from sklearn.feature_extraction.text import TfidfVectorizer\n",
    "from sklearn.metrics import confusion_matrix\n",
    "\n",
    "from sklearn.feature_extraction import text\n",
    "from sklearn.feature_extraction.text import TfidfVectorizer\n",
    "\n",
    "import datetime"
   ]
  },
  {
   "cell_type": "markdown",
   "metadata": {},
   "source": [
    "## Used only once to subset the data"
   ]
  },
  {
   "cell_type": "code",
   "execution_count": null,
   "metadata": {},
   "outputs": [],
   "source": [
    "cases = pd.read_csv('incident Jan2018-May2019 wDeptLoc Extract.csv', low_memory=False, parse_dates=['Opened At'],\n",
    "                    usecols=['Requester Cost Center Descr', \n",
    "                             'Requester Location Desc', \n",
    "                             'Requester', \n",
    "                             'Assignment Group', \n",
    "                             'Contact Type', \n",
    "                             'Description', \n",
    "                             'Location', \n",
    "                             'Opened At',\n",
    "                             'Short Description', \n",
    "                             'State', \n",
    "                             'U Functional Area',\n",
    "                             'U Classification'\n",
    "                             ])"
   ]
  },
  {
   "cell_type": "code",
   "execution_count": null,
   "metadata": {},
   "outputs": [],
   "source": [
    "cases = cases[cases['State'].isin(['Closed', 'Closed (Purchase Required)', 'Closed (CR Implemented)','Resolved'])].copy()"
   ]
  },
  {
   "cell_type": "code",
   "execution_count": null,
   "metadata": {},
   "outputs": [],
   "source": [
    "cases.columns"
   ]
  },
  {
   "cell_type": "code",
   "execution_count": null,
   "metadata": {},
   "outputs": [],
   "source": [
    "cases.isnull().sum()"
   ]
  },
  {
   "cell_type": "code",
   "execution_count": 23,
   "metadata": {},
   "outputs": [],
   "source": [
    "cases.to_csv('all data subset - closed.csv')"
   ]
  },
  {
   "cell_type": "markdown",
   "metadata": {},
   "source": [
    "## Import saved subset and process further"
   ]
  },
  {
   "cell_type": "code",
   "execution_count": 5,
   "metadata": {},
   "outputs": [
    {
     "data": {
      "text/plain": [
       "(421957, 12)"
      ]
     },
     "execution_count": 5,
     "metadata": {},
     "output_type": "execute_result"
    }
   ],
   "source": [
    "cases = pd.read_csv('all data subset - closed.csv', low_memory=False, parse_dates=['Opened At'])\n",
    "cases.drop('Unnamed: 0', axis=1, inplace=True)\n",
    "cases.shape"
   ]
  },
  {
   "cell_type": "code",
   "execution_count": 3,
   "metadata": {},
   "outputs": [
    {
     "data": {
      "text/plain": [
       "Requester Cost Center Descr    134017\n",
       "Requester Location Desc        134017\n",
       "Requester                        7905\n",
       "Assignment Group                   10\n",
       "Contact Type                       33\n",
       "Description                     16449\n",
       "Location                       131336\n",
       "Opened At                           0\n",
       "Short Description               91795\n",
       "State                               0\n",
       "U Classification                 4392\n",
       "U Functional Area              170222\n",
       "dtype: int64"
      ]
     },
     "execution_count": 3,
     "metadata": {},
     "output_type": "execute_result"
    }
   ],
   "source": [
    "cases.isnull().sum()"
   ]
  },
  {
   "cell_type": "code",
   "execution_count": 6,
   "metadata": {},
   "outputs": [
    {
     "data": {
      "text/plain": [
       "(414042, 12)"
      ]
     },
     "execution_count": 6,
     "metadata": {},
     "output_type": "execute_result"
    }
   ],
   "source": [
    "#Delete cases where Assignment Group is NULL\n",
    "cases = cases[-cases['Assignment Group'].isnull()].copy()\n",
    "cases = cases[-cases['Requester'].isnull()].copy()\n",
    "cases.shape"
   ]
  },
  {
   "cell_type": "code",
   "execution_count": 7,
   "metadata": {},
   "outputs": [],
   "source": [
    "#Concat Description, Short Description, Requester,  'Requester Cost Center Descr', 'Requester Location Desc'\n",
    "cases['fulltext'] = cases['Description'].astype(str) + ' ' + cases['Short Description'].astype(str) + ' ' + cases['Requester'].astype(str) + ' ' + cases['Requester Cost Center Descr'].astype(str) + ' ' + cases['Requester Location Desc'].astype(str)"
   ]
  },
  {
   "cell_type": "code",
   "execution_count": 8,
   "metadata": {},
   "outputs": [
    {
     "data": {
      "text/plain": [
       "Requester Cost Center Descr    126102\n",
       "Requester Location Desc        126102\n",
       "Requester                           0\n",
       "Assignment Group                    0\n",
       "Contact Type                       31\n",
       "Description                     15915\n",
       "Location                       123490\n",
       "Opened At                           0\n",
       "Short Description               91785\n",
       "State                               0\n",
       "U Classification                 4373\n",
       "U Functional Area              162388\n",
       "fulltext                            0\n",
       "dtype: int64"
      ]
     },
     "execution_count": 8,
     "metadata": {},
     "output_type": "execute_result"
    }
   ],
   "source": [
    "cases.isnull().sum()"
   ]
  },
  {
   "cell_type": "code",
   "execution_count": 18,
   "metadata": {},
   "outputs": [],
   "source": [
    "cases['cc'] = np.where(cases['Requester Cost Center Descr'].isnull(), cases['Requester'], cases['Requester Cost Center Descr'])"
   ]
  },
  {
   "cell_type": "code",
   "execution_count": 19,
   "metadata": {},
   "outputs": [
    {
     "data": {
      "text/plain": [
       "Requester Cost Center Descr    126102\n",
       "Requester Location Desc        126102\n",
       "Requester                           0\n",
       "Assignment Group                    0\n",
       "Contact Type                       31\n",
       "Description                     15915\n",
       "Location                       123490\n",
       "Opened At                           0\n",
       "Short Description               91785\n",
       "State                               0\n",
       "U Classification                 4373\n",
       "U Functional Area              162388\n",
       "fulltext                            0\n",
       "cc                                  0\n",
       "dtype: int64"
      ]
     },
     "execution_count": 19,
     "metadata": {},
     "output_type": "execute_result"
    }
   ],
   "source": [
    "cases.isnull().sum()"
   ]
  },
  {
   "cell_type": "code",
   "execution_count": 21,
   "metadata": {},
   "outputs": [],
   "source": [
    "#save intermediary dataset\n",
    "cases.to_csv('all data subset - closed and fulltext.csv')"
   ]
  },
  {
   "cell_type": "code",
   "execution_count": 11,
   "metadata": {},
   "outputs": [
    {
     "data": {
      "text/plain": [
       "(421947, 13)"
      ]
     },
     "execution_count": 11,
     "metadata": {},
     "output_type": "execute_result"
    }
   ],
   "source": [
    "cases.shape"
   ]
  },
  {
   "cell_type": "markdown",
   "metadata": {},
   "source": [
    "## Prep tfidf"
   ]
  },
  {
   "cell_type": "code",
   "execution_count": 7,
   "metadata": {},
   "outputs": [
    {
     "data": {
      "text/plain": [
       "(414042, 15)"
      ]
     },
     "execution_count": 7,
     "metadata": {},
     "output_type": "execute_result"
    }
   ],
   "source": [
    "cases = pd.read_csv('all data subset - closed and fulltext.csv', low_memory=False,parse_dates=['Opened At'])\n",
    "cases.shape"
   ]
  },
  {
   "cell_type": "code",
   "execution_count": 8,
   "metadata": {},
   "outputs": [
    {
     "data": {
      "text/plain": [
       "296"
      ]
     },
     "execution_count": 8,
     "metadata": {},
     "output_type": "execute_result"
    }
   ],
   "source": [
    "len(cases['Assignment Group'].unique())"
   ]
  },
  {
   "cell_type": "markdown",
   "metadata": {},
   "source": [
    "## Import finance cases and list AGs"
   ]
  },
  {
   "cell_type": "code",
   "execution_count": 9,
   "metadata": {},
   "outputs": [],
   "source": [
    "#import data (do only once)\n",
    "fin_cases = pd.read_excel('incident V2 - Enriched.xlsx')\n"
   ]
  },
  {
   "cell_type": "code",
   "execution_count": 12,
   "metadata": {},
   "outputs": [
    {
     "data": {
      "text/plain": [
       "(34564, 44)"
      ]
     },
     "execution_count": 12,
     "metadata": {},
     "output_type": "execute_result"
    }
   ],
   "source": [
    "fin_cases.shape"
   ]
  },
  {
   "cell_type": "code",
   "execution_count": 15,
   "metadata": {},
   "outputs": [
    {
     "data": {
      "text/plain": [
       "Index(['number', 'state', 'u_region', 'u_business_priority',\n",
       "       'u_classification', 'urgency', 'assigned_to', 'opened_at',\n",
       "       'u_closure_category', 'u_requester', 'u_requested_by_date',\n",
       "       'short_description', 'description', 'cmdb_ci', 'u_sla_breached',\n",
       "       'u_sla_breached_reason', 'sla_due', 'sys_updated_on', 'comments',\n",
       "       'u_bsa_comments', 'u_business_comments', 'u_developer_comments',\n",
       "       'u_tech_lead_comments', 'work_notes', 'ag', 'u_comments_and_work_notes',\n",
       "       'u_problem_code', 'u_problem_description',\n",
       "       'u_previous_assignment_groups', 'Requester Person ID',\n",
       "       'Requester User Id', 'Requester Full Name', 'Requester Grade',\n",
       "       'Requester Supervisor', 'Requester Cost Center Descr',\n",
       "       'Requester Location Desc', 'Assigned To Person ID',\n",
       "       'Assigned To User Id', 'Assigned To Full Name', 'Assigned To Grade',\n",
       "       'Assigned To Supervisor', 'Assigned To Cost Center Descr',\n",
       "       'Assigned To Location Desc', 'cln_desc1'],\n",
       "      dtype='object')"
      ]
     },
     "execution_count": 15,
     "metadata": {},
     "output_type": "execute_result"
    }
   ],
   "source": [
    "fin_cases.columns"
   ]
  },
  {
   "cell_type": "code",
   "execution_count": 10,
   "metadata": {},
   "outputs": [],
   "source": [
    "# Use only closed cases\n",
    "fin_cases = fin_cases[fin_cases['state'].isin(['Closed', 'Closed (CR Implemented)', 'Closed (Purchase Required)', 'Resolved'])].copy()"
   ]
  },
  {
   "cell_type": "code",
   "execution_count": 19,
   "metadata": {},
   "outputs": [],
   "source": [
    "fin_cases['fulltext'] = fin_cases['description'].astype(str) + ' ' + fin_cases['short_description'].astype(str) + ' ' + fin_cases['u_requester'].astype(str) + ' ' + fin_cases['Requester Cost Center Descr'].astype(str) + ' ' + fin_cases['Requester Location Desc'].astype(str)"
   ]
  },
  {
   "cell_type": "code",
   "execution_count": 11,
   "metadata": {},
   "outputs": [],
   "source": [
    "fin_cases = fin_cases[fin_cases['opened_at'] > '12/31/2017']"
   ]
  },
  {
   "cell_type": "code",
   "execution_count": 12,
   "metadata": {},
   "outputs": [
    {
     "data": {
      "text/plain": [
       "(5834, 44)"
      ]
     },
     "execution_count": 12,
     "metadata": {},
     "output_type": "execute_result"
    }
   ],
   "source": [
    "fin_cases.shape"
   ]
  },
  {
   "cell_type": "code",
   "execution_count": 13,
   "metadata": {},
   "outputs": [],
   "source": [
    "fin_ags = fin_cases['ag'].unique()"
   ]
  },
  {
   "cell_type": "code",
   "execution_count": null,
   "metadata": {},
   "outputs": [],
   "source": []
  },
  {
   "cell_type": "code",
   "execution_count": null,
   "metadata": {},
   "outputs": [],
   "source": []
  },
  {
   "cell_type": "code",
   "execution_count": 39,
   "metadata": {},
   "outputs": [],
   "source": [
    "#Remove stop words in English when creating tf idf vector \n",
    "fin_vectorizer = TfidfVectorizer(stop_words='english')\n",
    "tfidf_fit = fin_vectorizer.fit(fin_cases['fulltext'].values)\n",
    "fin_tfidf = fin_vectorizer.transform(fin_cases['fulltext'].values)"
   ]
  },
  {
   "cell_type": "code",
   "execution_count": 40,
   "metadata": {},
   "outputs": [
    {
     "data": {
      "text/plain": [
       "(5834, 59256)"
      ]
     },
     "execution_count": 40,
     "metadata": {},
     "output_type": "execute_result"
    }
   ],
   "source": [
    "fin_tfidf.shape"
   ]
  },
  {
   "cell_type": "code",
   "execution_count": 41,
   "metadata": {},
   "outputs": [
    {
     "data": {
      "text/plain": [
       "RandomForestClassifier(bootstrap=True, class_weight=None, criterion='gini',\n",
       "            max_depth=None, max_features='auto', max_leaf_nodes=None,\n",
       "            min_impurity_decrease=0.0, min_impurity_split=None,\n",
       "            min_samples_leaf=1, min_samples_split=2,\n",
       "            min_weight_fraction_leaf=0.0, n_estimators=100, n_jobs=-1,\n",
       "            oob_score=False, random_state=None, verbose=0,\n",
       "            warm_start=False)"
      ]
     },
     "execution_count": 41,
     "metadata": {},
     "output_type": "execute_result"
    }
   ],
   "source": [
    "mf = RandomForestClassifier(n_estimators=100, n_jobs=-1)\n",
    "mf.fit(fin_tfidf, fin_cases['ag'])"
   ]
  },
  {
   "cell_type": "code",
   "execution_count": 38,
   "metadata": {},
   "outputs": [
    {
     "data": {
      "text/plain": [
       "59256"
      ]
     },
     "execution_count": 38,
     "metadata": {},
     "output_type": "execute_result"
    }
   ],
   "source": [
    "len(mf.feature_importances_)"
   ]
  },
  {
   "cell_type": "code",
   "execution_count": null,
   "metadata": {},
   "outputs": [],
   "source": []
  },
  {
   "cell_type": "code",
   "execution_count": null,
   "metadata": {},
   "outputs": [],
   "source": []
  },
  {
   "cell_type": "code",
   "execution_count": 42,
   "metadata": {},
   "outputs": [],
   "source": [
    "#Use the feature importance to find the most important finance words\n",
    "feature_importance = pd.DataFrame({'Feature' : fin_vectorizer.get_feature_names(), 'Importance' : mf.feature_importances_})\n",
    "feature_importance.sort_values('Importance', ascending=False, inplace=True)\n",
    "#Consider words with importance > than 0.0001 as important and remove them from stop words\n",
    "fin_words = feature_importance[feature_importance['Importance'] >= 0.0001]['Feature']\n"
   ]
  },
  {
   "cell_type": "code",
   "execution_count": 44,
   "metadata": {},
   "outputs": [
    {
     "data": {
      "text/plain": [
       "1578"
      ]
     },
     "execution_count": 44,
     "metadata": {},
     "output_type": "execute_result"
    }
   ],
   "source": [
    "len(fin_words)"
   ]
  },
  {
   "cell_type": "code",
   "execution_count": null,
   "metadata": {},
   "outputs": [],
   "source": []
  },
  {
   "cell_type": "markdown",
   "metadata": {},
   "source": [
    "## Remove Fin words from stop words"
   ]
  },
  {
   "cell_type": "code",
   "execution_count": 63,
   "metadata": {},
   "outputs": [
    {
     "name": "stdout",
     "output_type": "stream",
     "text": [
      "(414042, 828568)\n"
     ]
    }
   ],
   "source": [
    "#Get most important words from tf idf\n",
    "#Remove stop words in English when creating tf idf vector and create train set\n",
    "vectorizer = TfidfVectorizer(stop_words='english').fit(cases['fulltext'].values)\n",
    "tfidf = vectorizer.transform(cases['fulltext'].values)\n",
    "print(tfidf.shape)\n"
   ]
  },
  {
   "cell_type": "code",
   "execution_count": 31,
   "metadata": {},
   "outputs": [],
   "source": [
    "#Run RF on tf idf and fit and find important features\n",
    "m = RandomForestClassifier(n_estimators=100, n_jobs=-1)\n",
    "m.fit(tfidf, cases['Assignment Group'])\n",
    "\n"
   ]
  },
  {
   "cell_type": "code",
   "execution_count": 64,
   "metadata": {},
   "outputs": [
    {
     "data": {
      "text/plain": [
       "(828568, 2)"
      ]
     },
     "execution_count": 64,
     "metadata": {},
     "output_type": "execute_result"
    }
   ],
   "source": [
    "#Use the feature importance to find the most important words\n",
    "feature_importance = pd.DataFrame({'Feature' : vectorizer.get_feature_names(), 'Importance' : m.feature_importances_})\n",
    "feature_importance.sort_values('Importance', ascending=False, inplace=True)\n",
    "feature_importance.shape"
   ]
  },
  {
   "cell_type": "code",
   "execution_count": 65,
   "metadata": {},
   "outputs": [
    {
     "data": {
      "text/plain": [
       "826264"
      ]
     },
     "execution_count": 65,
     "metadata": {},
     "output_type": "execute_result"
    }
   ],
   "source": [
    "# Create customer stop words\n",
    "#Consider words with importance less than 0.00005 as unimportant and remove them from tf idf\n",
    "words_to_remove = feature_importance[feature_importance['Importance'] < 0.00005]['Feature']\n",
    "len(words_to_remove)"
   ]
  },
  {
   "cell_type": "code",
   "execution_count": 66,
   "metadata": {},
   "outputs": [
    {
     "data": {
      "text/plain": [
       "1578"
      ]
     },
     "execution_count": 66,
     "metadata": {},
     "output_type": "execute_result"
    }
   ],
   "source": [
    "len(fin_words)"
   ]
  },
  {
   "cell_type": "code",
   "execution_count": 60,
   "metadata": {},
   "outputs": [
    {
     "data": {
      "text/plain": [
       "pandas.core.series.Series"
      ]
     },
     "execution_count": 60,
     "metadata": {},
     "output_type": "execute_result"
    }
   ],
   "source": [
    "type(fin_words)"
   ]
  },
  {
   "cell_type": "code",
   "execution_count": null,
   "metadata": {},
   "outputs": [],
   "source": []
  },
  {
   "cell_type": "code",
   "execution_count": null,
   "metadata": {},
   "outputs": [],
   "source": []
  },
  {
   "cell_type": "code",
   "execution_count": 67,
   "metadata": {},
   "outputs": [
    {
     "data": {
      "text/plain": [
       "825731"
      ]
     },
     "execution_count": 67,
     "metadata": {},
     "output_type": "execute_result"
    }
   ],
   "source": [
    "#Remove important fin words from stop words so that they are incuded in the tfidf\n",
    "words_to_remove_sub = list(set(words_to_remove).difference(set(fin_words)))\n",
    "len(words_to_remove_sub)"
   ]
  },
  {
   "cell_type": "code",
   "execution_count": 68,
   "metadata": {},
   "outputs": [
    {
     "data": {
      "text/plain": [
       "825731"
      ]
     },
     "execution_count": 68,
     "metadata": {},
     "output_type": "execute_result"
    }
   ],
   "source": [
    "words_to_remove_sub = [x for x in list(words_to_remove) if x not in list(fin_words)]\n",
    "len(words_to_remove_sub)"
   ]
  },
  {
   "cell_type": "code",
   "execution_count": null,
   "metadata": {},
   "outputs": [],
   "source": []
  },
  {
   "cell_type": "code",
   "execution_count": null,
   "metadata": {},
   "outputs": [],
   "source": []
  },
  {
   "cell_type": "code",
   "execution_count": 69,
   "metadata": {},
   "outputs": [
    {
     "data": {
      "text/plain": [
       "826049"
      ]
     },
     "execution_count": 69,
     "metadata": {},
     "output_type": "execute_result"
    }
   ],
   "source": [
    "\n",
    "#Add words to remove to stop words and create new tf idf\n",
    "my_stop_words = text.ENGLISH_STOP_WORDS.union(words_to_remove_sub)\n",
    "len(my_stop_words)"
   ]
  },
  {
   "cell_type": "code",
   "execution_count": 70,
   "metadata": {},
   "outputs": [
    {
     "name": "stdout",
     "output_type": "stream",
     "text": [
      "(414042, 2837)\n"
     ]
    }
   ],
   "source": [
    "#Get most important words from tf idf\n",
    "#Remove stop words in English when creating tf idf vector and create train set\n",
    "vectorizer = TfidfVectorizer(stop_words=my_stop_words).fit(cases['fulltext'].values)\n",
    "tfidf = vectorizer.transform(cases['fulltext'].values)\n",
    "print(tfidf.shape)\n"
   ]
  },
  {
   "cell_type": "markdown",
   "metadata": {},
   "source": [
    "## Prep columns"
   ]
  },
  {
   "cell_type": "code",
   "execution_count": 71,
   "metadata": {},
   "outputs": [
    {
     "data": {
      "text/plain": [
       "Index(['Unnamed: 0', 'Requester Cost Center Descr', 'Requester Location Desc',\n",
       "       'Requester', 'Assignment Group', 'Contact Type', 'Description',\n",
       "       'Location', 'Opened At', 'Short Description', 'State',\n",
       "       'U Classification', 'U Functional Area', 'fulltext', 'cc'],\n",
       "      dtype='object')"
      ]
     },
     "execution_count": 71,
     "metadata": {},
     "output_type": "execute_result"
    }
   ],
   "source": [
    "cases.columns"
   ]
  },
  {
   "cell_type": "code",
   "execution_count": 73,
   "metadata": {},
   "outputs": [],
   "source": [
    "#Choose columns needed\n",
    "df_feature = cases[['cc', 'Requester Location Desc', 'Contact Type', 'Location', 'Opened At', 'U Classification', 'U Functional Area', 'Assignment Group']].copy() "
   ]
  },
  {
   "cell_type": "code",
   "execution_count": 75,
   "metadata": {},
   "outputs": [],
   "source": [
    "df_feature_ohe = pd.get_dummies(df_feature,columns=['cc', 'Requester Location Desc', 'Contact Type', 'Location', 'U Classification', 'U Functional Area'])"
   ]
  },
  {
   "cell_type": "code",
   "execution_count": 76,
   "metadata": {},
   "outputs": [
    {
     "data": {
      "text/plain": [
       "(414042, 1047)"
      ]
     },
     "execution_count": 76,
     "metadata": {},
     "output_type": "execute_result"
    }
   ],
   "source": [
    "df_feature_ohe.shape"
   ]
  },
  {
   "cell_type": "code",
   "execution_count": 77,
   "metadata": {},
   "outputs": [],
   "source": [
    "#Concatenate tfidf and feature set to create full set\n",
    "tfidf_df = pd.DataFrame(tfidf.todense())\n",
    "tfidf_df.reset_index(drop=True, inplace=True)\n",
    "df_feature_ohe.reset_index(drop=True, inplace=True)\n",
    "cases_full = pd.concat([tfidf_df, df_feature_ohe], axis=1)"
   ]
  },
  {
   "cell_type": "code",
   "execution_count": 78,
   "metadata": {},
   "outputs": [
    {
     "data": {
      "text/plain": [
       "(414042, 3884)"
      ]
     },
     "execution_count": 78,
     "metadata": {},
     "output_type": "execute_result"
    }
   ],
   "source": [
    "cases_full.shape"
   ]
  },
  {
   "cell_type": "code",
   "execution_count": 81,
   "metadata": {},
   "outputs": [],
   "source": [
    "#Save intermediate file \n",
    "cases_full.to_csv('all data - tfidf and ohe without requester add fin ags.csv')"
   ]
  },
  {
   "cell_type": "markdown",
   "metadata": {},
   "source": [
    "## Import final dataset (start here)"
   ]
  },
  {
   "cell_type": "code",
   "execution_count": 2,
   "metadata": {},
   "outputs": [],
   "source": [
    "#Import file\n",
    "cases_full = pd.read_csv('all data - tfidf and ohe without requester.csv', parse_dates=['Opened At'] )"
   ]
  },
  {
   "cell_type": "code",
   "execution_count": 2,
   "metadata": {},
   "outputs": [],
   "source": [
    "#Import file\n",
    "cases_full = pd.read_csv('all data - tfidf and ohe without requester add fin ags.csv', parse_dates=['Opened At'] )"
   ]
  },
  {
   "cell_type": "code",
   "execution_count": 7,
   "metadata": {},
   "outputs": [],
   "source": [
    "cases_full = df_feature_ohe.copy()"
   ]
  },
  {
   "cell_type": "code",
   "execution_count": 3,
   "metadata": {},
   "outputs": [
    {
     "data": {
      "text/plain": [
       "((360937, 3885), (53105, 3885))"
      ]
     },
     "execution_count": 3,
     "metadata": {},
     "output_type": "execute_result"
    }
   ],
   "source": [
    "#Split into train and test\n",
    "train = cases_full[cases_full['Opened At'] < '04/01/2019'].copy()\n",
    "test = cases_full.drop(index=train.index, axis=1).copy()\n",
    "train.shape, test.shape"
   ]
  },
  {
   "cell_type": "code",
   "execution_count": 4,
   "metadata": {},
   "outputs": [],
   "source": [
    "train.drop('Opened At', axis=1, inplace=True)\n",
    "test.drop('Opened At', axis=1, inplace=True)\n"
   ]
  },
  {
   "cell_type": "code",
   "execution_count": 5,
   "metadata": {},
   "outputs": [],
   "source": [
    "#Run RF on tf idf and fit\n",
    "iters = 100\n",
    "m = RandomForestClassifier(n_estimators=iters, n_jobs=-1).fit(train.drop('Assignment Group', axis=1), train['Assignment Group'])"
   ]
  },
  {
   "cell_type": "code",
   "execution_count": 7,
   "metadata": {},
   "outputs": [
    {
     "data": {
      "text/plain": [
       "\"second_label = []\\nfor i in range(0,len(pred_probs)):\\n    second_label.append(np.argsort(-pred_probs)[i][1])\\npred_df['second_max_label'] = second_label\\n\\nprobs_list = pred_probs.copy()\\nsecond_probs = []\\nfor j in range(0,len(probs_list)):\\n    probs_list[j].sort()\\n    second_probs.append(probs_list[j][-2])\\npred_df['second_max_probs'] = second_probs\\npred_df['actual'] = test['Assignment Group'].values\\npred_df['model'] = 'rf blend tfidf features'\\n\""
      ]
     },
     "execution_count": 7,
     "metadata": {},
     "output_type": "execute_result"
    }
   ],
   "source": [
    "#Do predictions\n",
    "pred_label = m.predict(test.drop('Assignment Group', axis=1))\n",
    "pred_probs = m.predict_proba(test.drop('Assignment Group', axis=1))\n",
    "pred_df = pd.DataFrame(pred_probs)\n",
    "cols = pred_df.columns \n",
    "\n",
    "pred_df['first_max_label'] = pred_label\n",
    "pred_df['first_max_probs'] = pred_probs.max(axis=1)\n",
    "\n",
    "'''second_label = []\n",
    "for i in range(0,len(pred_probs)):\n",
    "    second_label.append(np.argsort(-pred_probs)[i][1])\n",
    "pred_df['second_max_label'] = second_label\n",
    "\n",
    "probs_list = pred_probs.copy()\n",
    "second_probs = []\n",
    "for j in range(0,len(probs_list)):\n",
    "    probs_list[j].sort()\n",
    "    second_probs.append(probs_list[j][-2])\n",
    "pred_df['second_max_probs'] = second_probs\n",
    "pred_df['actual'] = test['Assignment Group'].values\n",
    "pred_df['model'] = 'rf blend tfidf features'\n",
    "'''\n",
    "\n",
    "#pred_df = pred_df[['model', 'actual', 'first_max_label', 'first_max_probs', 'second_max_label','second_max_probs'] + list(cols)]"
   ]
  },
  {
   "cell_type": "code",
   "execution_count": 34,
   "metadata": {},
   "outputs": [],
   "source": [
    "#Calculate accuracy\n",
    "no_of_ags = 'all'\n",
    "Accuracy = accuracy_score(test['Assignment Group'], pred_label)\n",
    "model = 'RandomForestClassifier'\n",
    "date = datetime.datetime.now()\n",
    "#model_params.update({'Accuracy': accuracy_score(test['Assignment Group'], pred_label})\n",
    "model_params = dict(((k, eval(k)) for k in ('Accuracy', 'no_of_ags', 'model', 'date', 'iters')))\n",
    "model_params_df = pd.DataFrame.from_dict(model_params, orient='index').T\n",
    "model_params_df['model'] = 'rf blend tfidf features'\n",
    "\n",
    "#Use the feature importance to find the most important words\n",
    "feature_importance = pd.DataFrame({'Feature' : train.drop('Assignment Group', axis=1).columns, 'Importance' : m.feature_importances_})\n",
    "feature_importance.sort_values('Importance', ascending=False, inplace=True)\n",
    "feature_importance['model'] = 'rf blend tfidf features'\n",
    "\n",
    "#Confusion matrix analysis\n",
    "cm_df = pd.DataFrame(confusion_matrix(test['Assignment Group'], pred_label)) \n",
    "labels = np.sort(list(set().union(pred_label, test['Assignment Group'])))\n",
    "cm_df.columns = labels\n",
    "cm_df['ag_name'] = labels\n",
    "cm_df.set_index('ag_name', inplace=True)\n",
    "\n",
    "'''#Create flat confusion matrix\n",
    "a = []\n",
    "p = []\n",
    "c = []\n",
    "t = []\n",
    "for i in  labels: #np.sort(list(set().union(pred_label, test['Assignment Group']))):\n",
    "    for j in labels: #np.sort(list(set().union(pred_label, test['Assignment Group']))):\n",
    "        a.append(i)\n",
    "        p.append(j)\n",
    "        c.append(cm_df[i][j])\n",
    "        t.append(cm_df[i].sum())\n",
    "        \n",
    "confusion = pd.DataFrame({'actual': a, 'predicted':p, 'count': c, 'total_actual':t})\n",
    "                     \n",
    "confusion['model'] = 'rf blend tfidf features' '''\n",
    "\n",
    "confusion = cm_df.unstack().reset_index(name='count')\n",
    "confusion.columns = ['predicted', 'actual', 'count']\n",
    "confusion['model'] = 'rf blend tfidf features'\n",
    "\n",
    "with pd.ExcelWriter('rf blend tfidf features add fin ags.xlsx') as writer:  # doctest: +SKIP\n",
    "    pred_df.to_excel(writer, sheet_name='probability')\n",
    "    feature_importance.head(30).to_excel(writer, sheet_name='feature importance')\n",
    "    model_params_df.to_excel(writer, sheet_name='parameters')\n",
    "    confusion.to_excel(writer, sheet_name='confusion matrix')"
   ]
  },
  {
   "cell_type": "code",
   "execution_count": 16,
   "metadata": {},
   "outputs": [],
   "source": [
    "fin_confusion = confusion[confusion['actual'].isin(fin_ags)]"
   ]
  },
  {
   "cell_type": "code",
   "execution_count": 19,
   "metadata": {},
   "outputs": [],
   "source": [
    "fin_confusion.to_csv('fin confusion.csv')"
   ]
  },
  {
   "cell_type": "code",
   "execution_count": 23,
   "metadata": {},
   "outputs": [],
   "source": [
    "import numpy as np\n",
    "import matplotlib.pyplot as plt\n",
    "plt.figure(figsize=(20,20))\n",
    "\n",
    "from sklearn import svm, datasets\n",
    "from sklearn.model_selection import train_test_split\n",
    "from sklearn.metrics import confusion_matrix\n",
    "from sklearn.utils.multiclass import unique_labels\n",
    "def plot_confusion_matrix(y_true, y_pred, classes,\n",
    "                          normalize=False,\n",
    "                          title=None,\n",
    "                          cmap=plt.cm.Blues):\n",
    "    \"\"\"\n",
    "    This function prints and plots the confusion matrix.\n",
    "    Normalization can be applied by setting `normalize=True`.\n",
    "    \"\"\"\n",
    "    if not title:\n",
    "        if normalize:\n",
    "            title = 'Normalized confusion matrix'\n",
    "        else:\n",
    "            title = 'Confusion matrix, without normalization'\n",
    "\n",
    "    # Compute confusion matrix\n",
    "    cm = confusion_matrix(y_true, y_pred)\n",
    "    # Only use the labels that appear in the data\n",
    "    #classes = classes[unique_labels(y_true, y_pred)]\n",
    "    if normalize:\n",
    "        cm = cm.astype('float') / cm.sum(axis=1)[:, np.newaxis]\n",
    "        print(\"Normalized confusion matrix\")\n",
    "    else:\n",
    "        print('Confusion matrix, without normalization')\n",
    "\n",
    "    print(cm)\n",
    "\n",
    "    fig, ax = plt.subplots()\n",
    "    im = ax.imshow(cm, interpolation='nearest', cmap=cmap)\n",
    "    ax.figure.colorbar(im, ax=ax)\n",
    "    # We want to show all ticks...\n",
    "    ax.set(xticks=np.arange(cm.shape[1]),\n",
    "           yticks=np.arange(cm.shape[0]),\n",
    "           # ... and label them with the respective list entries\n",
    "           xticklabels=classes, yticklabels=classes,\n",
    "           title=title,\n",
    "           ylabel='True label',\n",
    "           xlabel='Predicted label')\n",
    "\n",
    "    # Rotate the tick labels and set their alignment.\n",
    "    plt.setp(ax.get_xticklabels(), rotation=45, ha=\"right\",\n",
    "             rotation_mode=\"anchor\")\n",
    "\n",
    "    # Loop over data dimensions and create text annotations.\n",
    "    fmt = '.2f' if normalize else 'd'\n",
    "    thresh = cm.max() / 2.\n",
    "    for i in range(cm.shape[0]):\n",
    "        for j in range(cm.shape[1]):\n",
    "            ax.text(j, i, format(cm[i, j], fmt),\n",
    "                    ha=\"center\", va=\"center\",\n",
    "                    color=\"white\" if cm[i, j] > thresh else \"black\")\n",
    "    fig.tight_layout()\n",
    "    return ax\n"
   ]
  },
  {
   "cell_type": "code",
   "execution_count": 22,
   "metadata": {},
   "outputs": [],
   "source": [
    "cm_df.to_csv('cm df.csv')"
   ]
  },
  {
   "cell_type": "code",
   "execution_count": 26,
   "metadata": {},
   "outputs": [
    {
     "name": "stdout",
     "output_type": "stream",
     "text": [
      "Confusion matrix, without normalization\n",
      "[[  5   0   0 ...   0   0   0]\n",
      " [  0 253   0 ...   0   0   0]\n",
      " [  0   0 223 ...   0   0   0]\n",
      " ...\n",
      " [  0   0   0 ...  11   0   0]\n",
      " [  0   0   0 ...   0   1   0]\n",
      " [  0   0   0 ...   0   0   9]]\n"
     ]
    },
    {
     "data": {
      "text/plain": [
       "<matplotlib.axes._subplots.AxesSubplot at 0x195684d0550>"
      ]
     },
     "execution_count": 26,
     "metadata": {},
     "output_type": "execute_result"
    },
    {
     "data": {
      "image/png": "[encoded data removed]",
      "text/plain": [
       "<Figure size 432x288 with 2 Axes>"
      ]
     },
     "metadata": {
      "needs_background": "light"
     },
     "output_type": "display_data"
    }
   ],
   "source": [
    "plot_confusion_matrix(test['Assignment Group'], pred_label, classes= range(0,290),title='Confusion matrix, without normalization')"
   ]
  },
  {
   "cell_type": "code",
   "execution_count": 33,
   "metadata": {},
   "outputs": [],
   "source": [
    "cm_flat.to_csv('cm flat.csv')"
   ]
  },
  {
   "cell_type": "code",
   "execution_count": null,
   "metadata": {},
   "outputs": [],
   "source": []
  }
 ],
 "metadata": {
  "kernelspec": {
   "display_name": "Python 3",
   "language": "python",
   "name": "python3"
  },
  "language_info": {
   "codemirror_mode": {
    "name": "ipython",
    "version": 3
   },
   "file_extension": ".py",
   "mimetype": "text/x-python",
   "name": "python",
   "nbconvert_exporter": "python",
   "pygments_lexer": "ipython3",
   "version": "3.7.3"
  },
  "varInspector": {
   "cols": {
    "lenName": 16,
    "lenType": 16,
    "lenVar": 40
   },
   "kernels_config": {
    "python": {
     "delete_cmd_postfix": "",
     "delete_cmd_prefix": "del ",
     "library": "var_list.py",
     "varRefreshCmd": "print(var_dic_list())"
    },
    "r": {
     "delete_cmd_postfix": ") ",
     "delete_cmd_prefix": "rm(",
     "library": "var_list.r",
     "varRefreshCmd": "cat(var_dic_list()) "
    }
   },
   "position": {
    "height": "509.178px",
    "left": "1052.25px",
    "right": "20px",
    "top": "120px",
    "width": "349.988px"
   },
   "types_to_exclude": [
    "module",
    "function",
    "builtin_function_or_method",
    "instance",
    "_Feature"
   ],
   "window_display": false
  }
 },
 "nbformat": 4,
 "nbformat_minor": 2
}
